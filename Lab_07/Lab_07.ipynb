{
 "cells": [
  {
   "cell_type": "code",
   "execution_count": 2,
   "metadata": {},
   "outputs": [
    {
     "name": "stdout",
     "output_type": "stream",
     "text": [
      "Collecting hmmlearnNote: you may need to restart the kernel to use updated packages.\n",
      "\n",
      "  Downloading hmmlearn-0.3.2-cp311-cp311-win_amd64.whl.metadata (3.0 kB)\n",
      "Requirement already satisfied: numpy>=1.10 in c:\\users\\devansh\\appdata\\local\\programs\\python\\python311\\lib\\site-packages (from hmmlearn) (1.26.2)\n",
      "Requirement already satisfied: scikit-learn!=0.22.0,>=0.16 in c:\\users\\devansh\\appdata\\local\\programs\\python\\python311\\lib\\site-packages (from hmmlearn) (1.3.2)\n",
      "Requirement already satisfied: scipy>=0.19 in c:\\users\\devansh\\appdata\\local\\programs\\python\\python311\\lib\\site-packages (from hmmlearn) (1.11.4)\n",
      "Requirement already satisfied: joblib>=1.1.1 in c:\\users\\devansh\\appdata\\local\\programs\\python\\python311\\lib\\site-packages (from scikit-learn!=0.22.0,>=0.16->hmmlearn) (1.3.2)\n",
      "Requirement already satisfied: threadpoolctl>=2.0.0 in c:\\users\\devansh\\appdata\\local\\programs\\python\\python311\\lib\\site-packages (from scikit-learn!=0.22.0,>=0.16->hmmlearn) (3.2.0)\n",
      "Downloading hmmlearn-0.3.2-cp311-cp311-win_amd64.whl (125 kB)\n",
      "   ---------------------------------------- 0.0/125.4 kB ? eta -:--:--\n",
      "   ------------ -------------------------- 41.0/125.4 kB 991.0 kB/s eta 0:00:01\n",
      "   ---------------------------------------  122.9/125.4 kB 1.4 MB/s eta 0:00:01\n",
      "   ---------------------------------------- 125.4/125.4 kB 1.2 MB/s eta 0:00:00\n",
      "Installing collected packages: hmmlearn\n",
      "Successfully installed hmmlearn-0.3.2\n"
     ]
    },
    {
     "name": "stderr",
     "output_type": "stream",
     "text": [
      "\n",
      "[notice] A new release of pip is available: 23.3.1 -> 24.0\n",
      "[notice] To update, run: python.exe -m pip install --upgrade pip\n"
     ]
    }
   ],
   "source": [
    "%pip install hmmlearn"
   ]
  },
  {
   "cell_type": "code",
   "execution_count": 4,
   "metadata": {},
   "outputs": [
    {
     "name": "stderr",
     "output_type": "stream",
     "text": [
      "Fitting a model with 1580558 free scalar parameters with only 352600 data points will result in a degenerate solution.\n"
     ]
    }
   ],
   "source": [
    "import numpy as np\n",
    "import librosa\n",
    "from hmmlearn import hmm\n",
    "\n",
    "# Load audio file\n",
    "audio_file = \"Lab_01.wav\"\n",
    "y, sr = librosa.load(audio_file, sr=None)\n",
    "\n",
    "# Extract STFT features\n",
    "stft = np.abs(librosa.stft(y))\n",
    "\n",
    "# Reshape STFT features to match HMM input requirements\n",
    "X = np.reshape(stft, (stft.shape[1], stft.shape[0]))\n",
    "\n",
    "# Train an HMM model\n",
    "n_components = 3  # Number of HMM states\n",
    "model = hmm.GaussianHMM(n_components=n_components, covariance_type=\"full\", n_iter=100)\n",
    "model.fit(X)\n",
    "\n",
    "# Predict using the trained model\n",
    "labels = model.predict(X)\n"
   ]
  }
 ],
 "metadata": {
  "kernelspec": {
   "display_name": "Python 3",
   "language": "python",
   "name": "python3"
  },
  "language_info": {
   "codemirror_mode": {
    "name": "ipython",
    "version": 3
   },
   "file_extension": ".py",
   "mimetype": "text/x-python",
   "name": "python",
   "nbconvert_exporter": "python",
   "pygments_lexer": "ipython3",
   "version": "3.11.4"
  }
 },
 "nbformat": 4,
 "nbformat_minor": 2
}
